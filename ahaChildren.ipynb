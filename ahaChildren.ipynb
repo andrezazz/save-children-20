{
 "cells": [
  {
   "cell_type": "code",
   "execution_count": 1,
   "metadata": {},
   "outputs": [],
   "source": [
    "import numpy as np\n",
    "import pandas as pd\n",
    "import requests\n",
    "import json\n",
    "import os\n",
    "import dotenv\n",
    "import sys\n",
    "sys.tracebacklimit = 0 # turn off the error tracebacks\n",
    "from newspaper import Article\n",
    "import re"
   ]
  },
  {
   "cell_type": "code",
   "execution_count": 2,
   "metadata": {},
   "outputs": [],
   "source": [
    "dotenv.load_dotenv()\n",
    "token = os.getenv('token')"
   ]
  },
  {
   "cell_type": "code",
   "execution_count": 4,
   "metadata": {},
   "outputs": [],
   "source": [
    "myanmardict = {'q':'Rohingya&', 'from':'2017-08-24&', 'language':'en', 'pageSize':100, 'apiKey': token}"
   ]
  },
  {
   "cell_type": "code",
   "execution_count": 5,
   "metadata": {},
   "outputs": [
    {
     "data": {
      "text/plain": [
       "<Response [200]>"
      ]
     },
     "execution_count": 5,
     "metadata": {},
     "output_type": "execute_result"
    }
   ],
   "source": [
    "myanmar = requests.get('http://newsapi.org/v2/everything?', params=myanmardict)\n",
    "myanmar"
   ]
  },
  {
   "cell_type": "code",
   "execution_count": 6,
   "metadata": {},
   "outputs": [],
   "source": [
    "myanmarjson = json.loads(myanmar.text)"
   ]
  },
  {
   "cell_type": "code",
   "execution_count": 53,
   "metadata": {},
   "outputs": [],
   "source": [
    "myanmardf = pd.json_normalize(myanmarjson, record_path = ['articles'])\n",
    "myanmardf = myanmardf.loc[~myanmardf.title.duplicated(),]"
   ]
  },
  {
   "cell_type": "code",
   "execution_count": 54,
   "metadata": {},
   "outputs": [
    {
     "data": {
      "text/html": [
       "<div>\n",
       "<style scoped>\n",
       "    .dataframe tbody tr th:only-of-type {\n",
       "        vertical-align: middle;\n",
       "    }\n",
       "\n",
       "    .dataframe tbody tr th {\n",
       "        vertical-align: top;\n",
       "    }\n",
       "\n",
       "    .dataframe thead th {\n",
       "        text-align: right;\n",
       "    }\n",
       "</style>\n",
       "<table border=\"1\" class=\"dataframe\">\n",
       "  <thead>\n",
       "    <tr style=\"text-align: right;\">\n",
       "      <th></th>\n",
       "      <th>author</th>\n",
       "      <th>title</th>\n",
       "      <th>description</th>\n",
       "      <th>url</th>\n",
       "      <th>urlToImage</th>\n",
       "      <th>publishedAt</th>\n",
       "      <th>content</th>\n",
       "      <th>source.id</th>\n",
       "      <th>source.name</th>\n",
       "    </tr>\n",
       "  </thead>\n",
       "  <tbody>\n",
       "    <tr>\n",
       "      <th>0</th>\n",
       "      <td>None</td>\n",
       "      <td>Global virtual aid conference to be held for R...</td>\n",
       "      <td>Global virtual aid conference to be held for R...</td>\n",
       "      <td>https://uk.reuters.com/article/uk-myanmar-rohi...</td>\n",
       "      <td>None</td>\n",
       "      <td>2020-10-15T07:39:00Z</td>\n",
       "      <td>FILE PHOTO: Rohingyas living in Malaysia prote...</td>\n",
       "      <td>reuters</td>\n",
       "      <td>Reuters</td>\n",
       "    </tr>\n",
       "    <tr>\n",
       "      <th>1</th>\n",
       "      <td>Reuters Staff</td>\n",
       "      <td>Myanmar election app goes offline, has been cr...</td>\n",
       "      <td>A smartphone app produced for Myanmar’s Nov. 8...</td>\n",
       "      <td>https://in.reuters.com/article/myanmar-electio...</td>\n",
       "      <td>https://static.reuters.com/resources/r/?m=02&amp;d...</td>\n",
       "      <td>2020-10-02T15:46:00Z</td>\n",
       "      <td>By Reuters Staff\\r\\nYANGON (Reuters) - A smart...</td>\n",
       "      <td>reuters</td>\n",
       "      <td>Reuters</td>\n",
       "    </tr>\n",
       "    <tr>\n",
       "      <th>2</th>\n",
       "      <td>Reuters Staff</td>\n",
       "      <td>Global virtual aid conference to be held for R...</td>\n",
       "      <td>A global virtual international donor conferenc...</td>\n",
       "      <td>https://www.reuters.com/article/myanmar-rohing...</td>\n",
       "      <td>https://static.reuters.com/resources/r/?m=02&amp;d...</td>\n",
       "      <td>2020-10-15T07:43:00Z</td>\n",
       "      <td>By Reuters Staff\\r\\n(Reuters) - A global virtu...</td>\n",
       "      <td>reuters</td>\n",
       "      <td>Reuters</td>\n",
       "    </tr>\n",
       "    <tr>\n",
       "      <th>3</th>\n",
       "      <td>Reuters Staff</td>\n",
       "      <td>Global virtual aid conference to be held for R...</td>\n",
       "      <td>A global virtual international donor conferenc...</td>\n",
       "      <td>https://in.reuters.com/article/myanmar-rohingy...</td>\n",
       "      <td>https://static.reuters.com/resources/r/?m=02&amp;d...</td>\n",
       "      <td>2020-10-15T08:05:00Z</td>\n",
       "      <td>By Reuters Staff\\r\\n(Reuters) - A global virtu...</td>\n",
       "      <td>reuters</td>\n",
       "      <td>Reuters</td>\n",
       "    </tr>\n",
       "    <tr>\n",
       "      <th>4</th>\n",
       "      <td>Rozanna Latiff, A. Ananthalakshmi</td>\n",
       "      <td>Anti-migrant sentiment fanned on Facebook in M...</td>\n",
       "      <td>As coronavirus infections surged in Malaysia t...</td>\n",
       "      <td>https://www.reuters.com/article/us-facebook-ma...</td>\n",
       "      <td>https://static.reuters.com/resources/r/?m=02&amp;d...</td>\n",
       "      <td>2020-10-14T03:20:00Z</td>\n",
       "      <td>KUALA LUMPUR (Reuters) - As coronavirus infect...</td>\n",
       "      <td>reuters</td>\n",
       "      <td>Reuters</td>\n",
       "    </tr>\n",
       "    <tr>\n",
       "      <th>...</th>\n",
       "      <td>...</td>\n",
       "      <td>...</td>\n",
       "      <td>...</td>\n",
       "      <td>...</td>\n",
       "      <td>...</td>\n",
       "      <td>...</td>\n",
       "      <td>...</td>\n",
       "      <td>...</td>\n",
       "      <td>...</td>\n",
       "    </tr>\n",
       "    <tr>\n",
       "      <th>94</th>\n",
       "      <td>David Pierson, ANDREW NACHEMSON</td>\n",
       "      <td>As Myanmar prepares to vote, a COVID-19 outbre...</td>\n",
       "      <td>Five years after emerging from military rule, ...</td>\n",
       "      <td>https://news.yahoo.com/myanmar-prepares-vote-c...</td>\n",
       "      <td>https://s.yimg.com/uu/api/res/1.2/rwxNxYwdpGg2...</td>\n",
       "      <td>2020-10-23T08:30:11Z</td>\n",
       "      <td>People wearing facemasks walk to a bus stop in...</td>\n",
       "      <td>None</td>\n",
       "      <td>Yahoo Entertainment</td>\n",
       "    </tr>\n",
       "    <tr>\n",
       "      <th>95</th>\n",
       "      <td>AZM Anas</td>\n",
       "      <td>Education woes add to tensions outside Rohingy...</td>\n",
       "      <td>Local educators warn of a lost generation as r...</td>\n",
       "      <td>https://www.thenewhumanitarian.org/news-featur...</td>\n",
       "      <td>https://www.thenewhumanitarian.org/s3/files/st...</td>\n",
       "      <td>2020-10-13T11:50:37Z</td>\n",
       "      <td>The coronavirus pandemic has disrupted schooli...</td>\n",
       "      <td>None</td>\n",
       "      <td>The New Humanitarian</td>\n",
       "    </tr>\n",
       "    <tr>\n",
       "      <th>96</th>\n",
       "      <td>Aisha Salaudeen, CNN</td>\n",
       "      <td>These Africans are among the world's 100 most ...</td>\n",
       "      <td>Nigerian entrepreneur and philanthropist Tony ...</td>\n",
       "      <td>https://www.cnn.com/2020/09/23/africa/2020-tim...</td>\n",
       "      <td>https://cdn.cnn.com/cnnnext/dam/assets/1908131...</td>\n",
       "      <td>2020-09-23T17:47:41Z</td>\n",
       "      <td>Lagos, Nigeria (CNN)Nigerian entrepreneur and ...</td>\n",
       "      <td>cnn</td>\n",
       "      <td>CNN</td>\n",
       "    </tr>\n",
       "    <tr>\n",
       "      <th>97</th>\n",
       "      <td>FMT Reporters</td>\n",
       "      <td>Rohingya body seeks intervention from world le...</td>\n",
       "      <td>The association urges countries to cut economi...</td>\n",
       "      <td>https://www.freemalaysiatoday.com/category/nat...</td>\n",
       "      <td>https://s3media.freemalaysiatoday.com/wp-conte...</td>\n",
       "      <td>2020-09-27T10:55:04Z</td>\n",
       "      <td>Many of the Rohingya have fled Myanmar and Ban...</td>\n",
       "      <td>None</td>\n",
       "      <td>Free Malaysia Today</td>\n",
       "    </tr>\n",
       "    <tr>\n",
       "      <th>99</th>\n",
       "      <td>Shahria Sharmin | LensCulture</td>\n",
       "      <td>When Home Won’t Let You Stay</td>\n",
       "      <td>Using a box camera, Bangladeshi photographer S...</td>\n",
       "      <td>https://www.lensculture.com/articles/shahria-s...</td>\n",
       "      <td>https://photos.lensculture.com/large/532775c6-...</td>\n",
       "      <td>2020-10-12T10:30:49Z</td>\n",
       "      <td>In her striking black and white portraits, Dha...</td>\n",
       "      <td>None</td>\n",
       "      <td>Lensculture.com</td>\n",
       "    </tr>\n",
       "  </tbody>\n",
       "</table>\n",
       "<p>94 rows × 9 columns</p>\n",
       "</div>"
      ],
      "text/plain": [
       "                               author  \\\n",
       "0                                None   \n",
       "1                       Reuters Staff   \n",
       "2                       Reuters Staff   \n",
       "3                       Reuters Staff   \n",
       "4   Rozanna Latiff, A. Ananthalakshmi   \n",
       "..                                ...   \n",
       "94    David Pierson, ANDREW NACHEMSON   \n",
       "95                           AZM Anas   \n",
       "96               Aisha Salaudeen, CNN   \n",
       "97                      FMT Reporters   \n",
       "99      Shahria Sharmin | LensCulture   \n",
       "\n",
       "                                                title  \\\n",
       "0   Global virtual aid conference to be held for R...   \n",
       "1   Myanmar election app goes offline, has been cr...   \n",
       "2   Global virtual aid conference to be held for R...   \n",
       "3   Global virtual aid conference to be held for R...   \n",
       "4   Anti-migrant sentiment fanned on Facebook in M...   \n",
       "..                                                ...   \n",
       "94  As Myanmar prepares to vote, a COVID-19 outbre...   \n",
       "95  Education woes add to tensions outside Rohingy...   \n",
       "96  These Africans are among the world's 100 most ...   \n",
       "97  Rohingya body seeks intervention from world le...   \n",
       "99                       When Home Won’t Let You Stay   \n",
       "\n",
       "                                          description  \\\n",
       "0   Global virtual aid conference to be held for R...   \n",
       "1   A smartphone app produced for Myanmar’s Nov. 8...   \n",
       "2   A global virtual international donor conferenc...   \n",
       "3   A global virtual international donor conferenc...   \n",
       "4   As coronavirus infections surged in Malaysia t...   \n",
       "..                                                ...   \n",
       "94  Five years after emerging from military rule, ...   \n",
       "95  Local educators warn of a lost generation as r...   \n",
       "96  Nigerian entrepreneur and philanthropist Tony ...   \n",
       "97  The association urges countries to cut economi...   \n",
       "99  Using a box camera, Bangladeshi photographer S...   \n",
       "\n",
       "                                                  url  \\\n",
       "0   https://uk.reuters.com/article/uk-myanmar-rohi...   \n",
       "1   https://in.reuters.com/article/myanmar-electio...   \n",
       "2   https://www.reuters.com/article/myanmar-rohing...   \n",
       "3   https://in.reuters.com/article/myanmar-rohingy...   \n",
       "4   https://www.reuters.com/article/us-facebook-ma...   \n",
       "..                                                ...   \n",
       "94  https://news.yahoo.com/myanmar-prepares-vote-c...   \n",
       "95  https://www.thenewhumanitarian.org/news-featur...   \n",
       "96  https://www.cnn.com/2020/09/23/africa/2020-tim...   \n",
       "97  https://www.freemalaysiatoday.com/category/nat...   \n",
       "99  https://www.lensculture.com/articles/shahria-s...   \n",
       "\n",
       "                                           urlToImage           publishedAt  \\\n",
       "0                                                None  2020-10-15T07:39:00Z   \n",
       "1   https://static.reuters.com/resources/r/?m=02&d...  2020-10-02T15:46:00Z   \n",
       "2   https://static.reuters.com/resources/r/?m=02&d...  2020-10-15T07:43:00Z   \n",
       "3   https://static.reuters.com/resources/r/?m=02&d...  2020-10-15T08:05:00Z   \n",
       "4   https://static.reuters.com/resources/r/?m=02&d...  2020-10-14T03:20:00Z   \n",
       "..                                                ...                   ...   \n",
       "94  https://s.yimg.com/uu/api/res/1.2/rwxNxYwdpGg2...  2020-10-23T08:30:11Z   \n",
       "95  https://www.thenewhumanitarian.org/s3/files/st...  2020-10-13T11:50:37Z   \n",
       "96  https://cdn.cnn.com/cnnnext/dam/assets/1908131...  2020-09-23T17:47:41Z   \n",
       "97  https://s3media.freemalaysiatoday.com/wp-conte...  2020-09-27T10:55:04Z   \n",
       "99  https://photos.lensculture.com/large/532775c6-...  2020-10-12T10:30:49Z   \n",
       "\n",
       "                                              content source.id  \\\n",
       "0   FILE PHOTO: Rohingyas living in Malaysia prote...   reuters   \n",
       "1   By Reuters Staff\\r\\nYANGON (Reuters) - A smart...   reuters   \n",
       "2   By Reuters Staff\\r\\n(Reuters) - A global virtu...   reuters   \n",
       "3   By Reuters Staff\\r\\n(Reuters) - A global virtu...   reuters   \n",
       "4   KUALA LUMPUR (Reuters) - As coronavirus infect...   reuters   \n",
       "..                                                ...       ...   \n",
       "94  People wearing facemasks walk to a bus stop in...      None   \n",
       "95  The coronavirus pandemic has disrupted schooli...      None   \n",
       "96  Lagos, Nigeria (CNN)Nigerian entrepreneur and ...       cnn   \n",
       "97  Many of the Rohingya have fled Myanmar and Ban...      None   \n",
       "99  In her striking black and white portraits, Dha...      None   \n",
       "\n",
       "             source.name  \n",
       "0                Reuters  \n",
       "1                Reuters  \n",
       "2                Reuters  \n",
       "3                Reuters  \n",
       "4                Reuters  \n",
       "..                   ...  \n",
       "94   Yahoo Entertainment  \n",
       "95  The New Humanitarian  \n",
       "96                   CNN  \n",
       "97   Free Malaysia Today  \n",
       "99       Lensculture.com  \n",
       "\n",
       "[94 rows x 9 columns]"
      ]
     },
     "execution_count": 54,
     "metadata": {},
     "output_type": "execute_result"
    }
   ],
   "source": [
    "myanmardf"
   ]
  },
  {
   "cell_type": "code",
   "execution_count": 43,
   "metadata": {},
   "outputs": [],
   "source": [
    "urls = []\n",
    "for i in range(0, myanmardf.shape[0]):\n",
    "    urls.append(myanmardf.iloc[i]['url'])"
   ]
  },
  {
   "cell_type": "code",
   "execution_count": 44,
   "metadata": {},
   "outputs": [
    {
     "data": {
      "text/plain": [
       "94"
      ]
     },
     "execution_count": 44,
     "metadata": {},
     "output_type": "execute_result"
    }
   ],
   "source": [
    "len(urls)"
   ]
  },
  {
   "cell_type": "code",
   "execution_count": 55,
   "metadata": {},
   "outputs": [],
   "source": [
    "articles = {}\n",
    "for j in urls:\n",
    "    try:\n",
    "        art = Article(j)\n",
    "        art.download()\n",
    "        art.parse()\n",
    "        text = re.sub('\\s+',' ',art.text)\n",
    "        if text not in articles.values():\n",
    "            articles[j] = text\n",
    "    except:\n",
    "        continue"
   ]
  },
  {
   "cell_type": "code",
   "execution_count": 89,
   "metadata": {},
   "outputs": [],
   "source": [
    "myanmar_texts = pd.DataFrame.from_dict(articles, orient='index', columns=['text'])"
   ]
  },
  {
   "cell_type": "code",
   "execution_count": 94,
   "metadata": {},
   "outputs": [
    {
     "data": {
      "text/html": [
       "<div>\n",
       "<style scoped>\n",
       "    .dataframe tbody tr th:only-of-type {\n",
       "        vertical-align: middle;\n",
       "    }\n",
       "\n",
       "    .dataframe tbody tr th {\n",
       "        vertical-align: top;\n",
       "    }\n",
       "\n",
       "    .dataframe thead th {\n",
       "        text-align: right;\n",
       "    }\n",
       "</style>\n",
       "<table border=\"1\" class=\"dataframe\">\n",
       "  <thead>\n",
       "    <tr style=\"text-align: right;\">\n",
       "      <th></th>\n",
       "      <th>text</th>\n",
       "    </tr>\n",
       "  </thead>\n",
       "  <tbody>\n",
       "    <tr>\n",
       "      <th>https://uk.reuters.com/article/uk-myanmar-rohingya-idUKKBN2772GN</th>\n",
       "      <td>(Reuters) - International donors pledged nearl...</td>\n",
       "    </tr>\n",
       "    <tr>\n",
       "      <th>https://uk.reuters.com/article/us-health-coronavirus-snapshot-idUKKBN26Z0M0</th>\n",
       "      <td>(Reuters) - Here’s what you need to know about...</td>\n",
       "    </tr>\n",
       "    <tr>\n",
       "      <th>https://in.reuters.com/article/myanmar-election-idINKBN27207S</th>\n",
       "      <td>(Reuters) - More than half the polling station...</td>\n",
       "    </tr>\n",
       "    <tr>\n",
       "      <th>https://www.reuters.com/article/us-myanmar-election-idUSKBN27207J</th>\n",
       "      <td>(Reuters) - More than half the polling station...</td>\n",
       "    </tr>\n",
       "    <tr>\n",
       "      <th>https://www.vice.com/en/article/ep4jgz/rohingya-trapped-by-apartheid-regime-in-myanmar-says-human-rights-watch</th>\n",
       "      <td>Rohingya people who were arrested at sea in De...</td>\n",
       "    </tr>\n",
       "  </tbody>\n",
       "</table>\n",
       "</div>"
      ],
      "text/plain": [
       "                                                                                                 text\n",
       "https://uk.reuters.com/article/uk-myanmar-rohin...  (Reuters) - International donors pledged nearl...\n",
       "https://uk.reuters.com/article/us-health-corona...  (Reuters) - Here’s what you need to know about...\n",
       "https://in.reuters.com/article/myanmar-election...  (Reuters) - More than half the polling station...\n",
       "https://www.reuters.com/article/us-myanmar-elec...  (Reuters) - More than half the polling station...\n",
       "https://www.vice.com/en/article/ep4jgz/rohingya...  Rohingya people who were arrested at sea in De..."
      ]
     },
     "execution_count": 94,
     "metadata": {},
     "output_type": "execute_result"
    }
   ],
   "source": [
    "myanmar_texts.iloc[5:10]"
   ]
  },
  {
   "cell_type": "code",
   "execution_count": 96,
   "metadata": {},
   "outputs": [
    {
     "data": {
      "text/plain": [
       "'“I heard that a man in a nearby camp area got infected with the virus and I am afraid that it might spread here soon,” Sukkur told VICE News from one of the congested settlements in Bangladesh’s Cox’s Bazar district. Rohingya refugee Abdul Sukkur tries to protect himself from coronavirus by regularly washing his hands and wearing a mask, but as a resident of the most densely populated refugee camp in the world, he can’t always keep a safe distance from neighbors. Over a million Rohingya Muslim refugees live in the sprawling, packed camps in southern Bangladesh, having fled from Myanmar in waves of violence going back decades. The most recent influx was in 2017, when the Myanmar military violently expelled more than 740,000 Rohingya in operations UN investigators said were carried out with genocidal intent. Myanmar says it was defending itself against militants and while it has admitted to some violations it denies the genocide claim.'"
      ]
     },
     "execution_count": 96,
     "metadata": {},
     "output_type": "execute_result"
    }
   ],
   "source": [
    "myanmar_texts.iloc[10,0]"
   ]
  },
  {
   "cell_type": "code",
   "execution_count": 66,
   "metadata": {},
   "outputs": [],
   "source": [
    "myanmar_texts['text']= myanmar_texts['text'].map(lambda x: re.sub('[,\\.!?]', '', x))\n",
    "myanmar_texts['text'] = myanmar_texts['text'].map(lambda x: x.lower())"
   ]
  },
  {
   "cell_type": "code",
   "execution_count": 67,
   "metadata": {},
   "outputs": [
    {
     "data": {
      "text/html": [
       "<div>\n",
       "<style scoped>\n",
       "    .dataframe tbody tr th:only-of-type {\n",
       "        vertical-align: middle;\n",
       "    }\n",
       "\n",
       "    .dataframe tbody tr th {\n",
       "        vertical-align: top;\n",
       "    }\n",
       "\n",
       "    .dataframe thead th {\n",
       "        text-align: right;\n",
       "    }\n",
       "</style>\n",
       "<table border=\"1\" class=\"dataframe\">\n",
       "  <thead>\n",
       "    <tr style=\"text-align: right;\">\n",
       "      <th></th>\n",
       "      <th>text</th>\n",
       "    </tr>\n",
       "  </thead>\n",
       "  <tbody>\n",
       "    <tr>\n",
       "      <th>https://uk.reuters.com/article/uk-myanmar-rohingya-conference-idUKKBN2700VF</th>\n",
       "      <td>(reuters) - a global virtual international don...</td>\n",
       "    </tr>\n",
       "    <tr>\n",
       "      <th>https://in.reuters.com/article/myanmar-election-idINKBN26N2PT</th>\n",
       "      <td>yangon (reuters) - a smartphone app produced f...</td>\n",
       "    </tr>\n",
       "    <tr>\n",
       "      <th>https://in.reuters.com/article/myanmar-rohingya-conference-idINKBN2700XM</th>\n",
       "      <td>(reuters) - a global virtual international don...</td>\n",
       "    </tr>\n",
       "    <tr>\n",
       "      <th>https://www.reuters.com/article/us-facebook-malaysia-rohingya-idUSKBN26Z0BJ</th>\n",
       "      <td>kuala lumpur (reuters) - as coronavirus infect...</td>\n",
       "    </tr>\n",
       "    <tr>\n",
       "      <th>https://uk.reuters.com/article/uk-facebook-malaysia-rohingya-idUKKBN26Z0BP</th>\n",
       "      <td>kuala lumpur (reuters) - as coronavirus infect...</td>\n",
       "    </tr>\n",
       "  </tbody>\n",
       "</table>\n",
       "</div>"
      ],
      "text/plain": [
       "                                                                                                 text\n",
       "https://uk.reuters.com/article/uk-myanmar-rohin...  (reuters) - a global virtual international don...\n",
       "https://in.reuters.com/article/myanmar-election...  yangon (reuters) - a smartphone app produced f...\n",
       "https://in.reuters.com/article/myanmar-rohingya...  (reuters) - a global virtual international don...\n",
       "https://www.reuters.com/article/us-facebook-mal...  kuala lumpur (reuters) - as coronavirus infect...\n",
       "https://uk.reuters.com/article/uk-facebook-mala...  kuala lumpur (reuters) - as coronavirus infect..."
      ]
     },
     "execution_count": 67,
     "metadata": {},
     "output_type": "execute_result"
    }
   ],
   "source": [
    "myanmar_texts.head()"
   ]
  },
  {
   "cell_type": "code",
   "execution_count": 69,
   "metadata": {},
   "outputs": [],
   "source": [
    "from wordcloud import WordCloud"
   ]
  },
  {
   "cell_type": "code",
   "execution_count": 70,
   "metadata": {},
   "outputs": [
    {
     "data": {
      "image/png": "[encoded data removed]",
      "text/plain": [
       "<PIL.Image.Image image mode=RGB size=400x200 at 0x18B5E9BE130>"
      ]
     },
     "execution_count": 70,
     "metadata": {},
     "output_type": "execute_result"
    }
   ],
   "source": [
    "# Join the different processed titles together.\n",
    "long_string = ','.join(list(myanmar_texts['text'].values))\n",
    "\n",
    "# Create a WordCloud object\n",
    "wordcloud = WordCloud(background_color=\"white\", max_words=1000, contour_width=3, contour_color='steelblue')\n",
    "\n",
    "# Generate a word cloud\n",
    "wordcloud.generate(long_string)\n",
    "\n",
    "# Visualize the word cloud\n",
    "wordcloud.to_image()"
   ]
  },
  {
   "cell_type": "code",
   "execution_count": 71,
   "metadata": {},
   "outputs": [],
   "source": [
    "# Load the library with the CountVectorizer method\n",
    "from sklearn.feature_extraction.text import CountVectorizer\n",
    "import matplotlib.pyplot as plt\n",
    "import seaborn as sns\n",
    "sns.set_style('whitegrid')\n",
    "%matplotlib inline"
   ]
  },
  {
   "cell_type": "code",
   "execution_count": 72,
   "metadata": {},
   "outputs": [
    {
     "data": {
      "image/png": "[encoded data removed]",
      "text/plain": [
       "<Figure size 1080x667.491 with 1 Axes>"
      ]
     },
     "metadata": {
      "needs_background": "light"
     },
     "output_type": "display_data"
    }
   ],
   "source": [
    "# Helper function\n",
    "def plot_10_most_common_words(count_data, count_vectorizer):\n",
    "    words = count_vectorizer.get_feature_names()\n",
    "    total_counts = np.zeros(len(words))\n",
    "    for t in count_data:\n",
    "        total_counts+=t.toarray()[0]\n",
    "    \n",
    "    count_dict = (zip(words, total_counts))\n",
    "    count_dict = sorted(count_dict, key=lambda x:x[1], reverse=True)[0:10]\n",
    "    words = [w[0] for w in count_dict]\n",
    "    counts = [w[1] for w in count_dict]\n",
    "    x_pos = np.arange(len(words)) \n",
    "    \n",
    "    plt.figure(2, figsize=(15, 15/1.6180))\n",
    "    plt.subplot(title='10 most common words')\n",
    "    sns.set_context(\"notebook\", font_scale=1.25, rc={\"lines.linewidth\": 2.5})\n",
    "    sns.barplot(x_pos, counts, palette='husl')\n",
    "    plt.xticks(x_pos, words, rotation=90) \n",
    "    plt.xlabel('words')\n",
    "    plt.ylabel('counts')\n",
    "    plt.show()\n",
    "\n",
    "# Initialise the count vectorizer with the English stop words\n",
    "count_vectorizer = CountVectorizer(stop_words='english')\n",
    "\n",
    "# Fit and transform the processed titles\n",
    "count_data = count_vectorizer.fit_transform(myanmar_texts['text'])\n",
    "\n",
    "# Visualise the 10 most common words\n",
    "plot_10_most_common_words(count_data, count_vectorizer)"
   ]
  },
  {
   "cell_type": "code",
   "execution_count": 73,
   "metadata": {},
   "outputs": [],
   "source": [
    "import warnings\n",
    "warnings.simplefilter(\"ignore\", DeprecationWarning)\n",
    "\n",
    "# Load the LDA model from sk-learn\n",
    "from sklearn.decomposition import LatentDirichletAllocation as LDA"
   ]
  },
  {
   "cell_type": "code",
   "execution_count": 100,
   "metadata": {},
   "outputs": [
    {
     "name": "stdout",
     "output_type": "stream",
     "text": [
      "Topics found via LDA:\n",
      "\n",
      "Topic #0:\n",
      "military myanmar said rakhine government information states people state asean\n",
      "\n",
      "Topic #1:\n",
      "rohingya myanmar bangladesh refugees said camps refugee united humanitarian international\n",
      "\n",
      "Topic #2:\n",
      "myanmar app rohingya said facebook india election international ethnic uec\n",
      "\n",
      "Topic #3:\n",
      "election myanmar rohingya rakhine said state government military rights nld\n",
      "\n",
      "Topic #4:\n",
      "said reuters rohingya myanmar facebook malaysia rights anti speech pages\n",
      "\n",
      "Topic #5:\n",
      "pope francis said vatican afineevsky civil film unions gay people\n",
      "\n",
      "Topic #6:\n",
      "incident decades war risked going attempts hope mask wearing girls\n",
      "\n",
      "Topic #7:\n",
      "education children eu myanmar rohingya app formal rights curriculum said\n",
      "\n",
      "Topic #8:\n",
      "rohingya said myanmar case school international bangladesh refugee students refugees\n",
      "\n",
      "Topic #9:\n",
      "said oil palm workers ap malaysia labor jum plantations companies\n"
     ]
    }
   ],
   "source": [
    "# Helper function\n",
    "def print_topics(model, count_vectorizer, n_top_words):\n",
    "    words = count_vectorizer.get_feature_names()\n",
    "    for topic_idx, topic in enumerate(model.components_):\n",
    "        print(\"\\nTopic #%d:\" % topic_idx)\n",
    "        print(\" \".join([words[i]\n",
    "                        for i in topic.argsort()[:-n_top_words - 1:-1]]))\n",
    "        \n",
    "# Tweak the two parameters below (use int values below 15)\n",
    "number_topics = 10\n",
    "number_words = 10\n",
    "\n",
    "# Create and fit the LDA model\n",
    "lda = LDA(n_components=number_topics)\n",
    "lda.fit(count_data)\n",
    "\n",
    "# Print the topics found by the LDA model\n",
    "print(\"Topics found via LDA:\")\n",
    "print_topics(lda, count_vectorizer, number_words)"
   ]
  },
  {
   "cell_type": "code",
   "execution_count": 85,
   "metadata": {},
   "outputs": [],
   "source": [
    "from pyLDAvis import sklearn as sklearn_lda\n",
    "import pickle \n",
    "import pyLDAvis"
   ]
  },
  {
   "cell_type": "code",
   "execution_count": 103,
   "metadata": {},
   "outputs": [
    {
     "ename": "SyntaxError",
     "evalue": "positional argument follows keyword argument (<ipython-input-103-b2778f56bdea>, line 4)",
     "output_type": "error",
     "traceback": [
      "\u001b[1;36m  File \u001b[1;32m\"<ipython-input-103-b2778f56bdea>\"\u001b[1;36m, line \u001b[1;32m4\u001b[0m\n\u001b[1;33m    LDAvis_prepared = sklearn_lda.prepare(mds='tsne', lda, count_data, count_vectorizer)\u001b[0m\n\u001b[1;37m                                                      ^\u001b[0m\n\u001b[1;31mSyntaxError\u001b[0m\u001b[1;31m:\u001b[0m positional argument follows keyword argument\n"
     ]
    }
   ],
   "source": [
    "#pyLDAvis.enable_notebook()\n",
    "\n",
    "LDAvis_data_filepath = os.path.join('./ldavis_prepared_'+str(number_topics)+'.html')\n",
    "LDAvis_prepared = sklearn_lda.prepare(lda, count_data, count_vectorizer)\n",
    "pyLDAvis.save_html(LDAvis_prepared, './ldavis_prepared_'+ str(number_topics) +'.html')\n"
   ]
  },
  {
   "cell_type": "code",
   "execution_count": null,
   "metadata": {},
   "outputs": [],
   "source": []
  }
 ],
 "metadata": {
  "kernelspec": {
   "display_name": "Python 3",
   "language": "python",
   "name": "python3"
  },
  "language_info": {
   "codemirror_mode": {
    "name": "ipython",
    "version": 3
   },
   "file_extension": ".py",
   "mimetype": "text/x-python",
   "name": "python",
   "nbconvert_exporter": "python",
   "pygments_lexer": "ipython3",
   "version": "3.8.3"
  }
 },
 "nbformat": 4,
 "nbformat_minor": 4
}

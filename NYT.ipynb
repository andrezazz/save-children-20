{
 "cells": [
  {
   "cell_type": "code",
   "execution_count": 1,
   "metadata": {},
   "outputs": [],
   "source": [
    "import numpy as np\n",
    "import pandas as pd\n",
    "import requests\n",
    "import json\n",
    "import os\n",
    "import dotenv\n",
    "import sys\n",
    "sys.tracebacklimit = 0 # turn off the error tracebacks"
   ]
  },
  {
   "cell_type": "code",
   "execution_count": 2,
   "metadata": {},
   "outputs": [],
   "source": [
    "os.chdir(\"/Users/haizhuhong/srcode/PyCode/hackathon_code\")\n",
    "dotenv.load_dotenv()\n",
    "appid = os.getenv('nytappid')\n",
    "secret = os.getenv('nytsecret')\n",
    "key = os.getenv('nytkey')"
   ]
  },
  {
   "cell_type": "code",
   "execution_count": null,
   "metadata": {},
   "outputs": [],
   "source": [
    "root = 'http://api.nytimes.com/svc/semantic/v2/concept'\n",
    "\n",
    "endpoint1 = '/name'\n",
    "endpoint2 = '/search.json'\n",
    "\n",
    "concept_dict = {'geo': '/nytd_geo',\n",
    "                'person': '/nytd_per',\n",
    "                'org': '/nytd_org', \n",
    "                'desprictor': '/nytd_des',\n",
    "                'title': '/nytd_ttl',\n",
    "                'topic': '/nytd_topic',\n",
    "                'publicOrg': '/nytd_porg'}\n",
    "\n",
    "mydict = {'api-key': key,'fields': 'all', 'page': 100}\n"
   ]
  },
  {
   "cell_type": "code",
   "execution_count": null,
   "metadata": {},
   "outputs": [],
   "source": [
    "query = '//' + 'Myanmar' + \".json\"\n",
    "address = root + endpoint1 + concept_dict['geo'] + query\n",
    "\n",
    "r = requests.get(address, params=mydict)\n",
    "Myanmar = json.loads(r.text)\n",
    "myanmar = pd.json_normalize(Myanmar['results'][0]['article_list']['results'])\n",
    "myanmar"
   ]
  },
  {
   "cell_type": "code",
   "execution_count": null,
   "metadata": {},
   "outputs": [],
   "source": [
    "address = root + endpoint2\n",
    "query ={'query':'Aung San Suu Kyi',\n",
    "        'concept_type': 'nytd_per',\n",
    "        'api-key': key,\n",
    "        'fields': 'all'}\n",
    "\n",
    "r = requests.get(address, params=query)\n",
    "Aungsan = json.loads(r.text)\n",
    "aungsan = pd.json_normalize(Aungsan['results'][0]['article_list']['results'])\n",
    "aungsan"
   ]
  },
  {
   "cell_type": "code",
   "execution_count": null,
   "metadata": {},
   "outputs": [],
   "source": [
    "address = root + endpoint2\n",
    "query ={'query':'Rohingya',\n",
    "        'concept_type': 'nytd_des',\n",
    "        'api-key': key,\n",
    "        'fields': 'all'}\n",
    "\n",
    "r = requests.get(address, params=query)"
   ]
  },
  {
   "cell_type": "code",
   "execution_count": null,
   "metadata": {},
   "outputs": [],
   "source": [
    "Rohingya = json.loads(r.text)\n",
    "rohingya = pd.json_normalize(Rohingya['results'][0]['article_list']['results'])\n",
    "rohingya"
   ]
  },
  {
   "cell_type": "code",
   "execution_count": 3,
   "metadata": {},
   "outputs": [],
   "source": [
    "def getArticle(n):\n",
    "    article = 'https://api.nytimes.com/svc/search/v2/articlesearch.json'\n",
    "    query ={'q':'rohingya',\n",
    "            'api-key': key,\n",
    "            'page': n,\n",
    "            'sort': 'newest',\n",
    "            'fl': 'web_url'}\n",
    "\n",
    "    r = requests.get(article, params=query)\n",
    "    rohingya = json.loads(r.text)\n",
    "    url = [x['web_url'] for x in rohingya['response']['docs']]\n",
    "    return url"
   ]
  },
  {
   "cell_type": "code",
   "execution_count": 6,
   "metadata": {},
   "outputs": [],
   "source": [
    "urls = []\n",
    "for i in range(1, 11):\n",
    "    add = getArticle(i)\n",
    "    urls.append(add)"
   ]
  },
  {
   "cell_type": "code",
   "execution_count": 7,
   "metadata": {},
   "outputs": [],
   "source": [
    "for i in range(11, 21):\n",
    "    add = getArticle(i)\n",
    "    urls.append(add)"
   ]
  },
  {
   "cell_type": "code",
   "execution_count": 10,
   "metadata": {},
   "outputs": [
    {
     "name": "stdout",
     "output_type": "stream",
     "text": [
      "ERROR! Session/line number was not unique in database. History logging moved to new session 769\n"
     ]
    }
   ],
   "source": [
    "for i in range(21, 31):\n",
    "    add = getArticle(i)\n",
    "    urls.append(add)"
   ]
  },
  {
   "cell_type": "code",
   "execution_count": 11,
   "metadata": {},
   "outputs": [],
   "source": [
    "for i in range(31, 41):\n",
    "    add = getArticle(i)\n",
    "    urls.append(add)"
   ]
  },
  {
   "cell_type": "code",
   "execution_count": 12,
   "metadata": {},
   "outputs": [],
   "source": [
    "for i in range(41, 51):\n",
    "    add = getArticle(i)\n",
    "    urls.append(add)"
   ]
  },
  {
   "cell_type": "code",
   "execution_count": 13,
   "metadata": {},
   "outputs": [],
   "source": [
    "for i in range(51, 61):\n",
    "    add = getArticle(i)\n",
    "    urls.append(add)"
   ]
  },
  {
   "cell_type": "code",
   "execution_count": 14,
   "metadata": {},
   "outputs": [],
   "source": [
    "for i in range(61, 71):\n",
    "    add = getArticle(i)\n",
    "    urls.append(add)"
   ]
  },
  {
   "cell_type": "code",
   "execution_count": 15,
   "metadata": {},
   "outputs": [
    {
     "name": "stdout",
     "output_type": "stream",
     "text": [
      "ERROR! Session/line number was not unique in database. History logging moved to new session 770\n"
     ]
    }
   ],
   "source": [
    "for i in range(71, 81):\n",
    "    add = getArticle(i)\n",
    "    urls.append(add)"
   ]
  },
  {
   "cell_type": "code",
   "execution_count": 16,
   "metadata": {},
   "outputs": [],
   "source": [
    "for i in range(81, 91):\n",
    "    add = getArticle(i)\n",
    "    urls.append(add)"
   ]
  },
  {
   "cell_type": "code",
   "execution_count": 17,
   "metadata": {},
   "outputs": [],
   "source": [
    "for i in range(91, 101):\n",
    "    add = getArticle(i)\n",
    "    urls.append(add)"
   ]
  },
  {
   "cell_type": "code",
   "execution_count": 18,
   "metadata": {},
   "outputs": [
    {
     "data": {
      "text/plain": [
       "103"
      ]
     },
     "execution_count": 18,
     "metadata": {},
     "output_type": "execute_result"
    }
   ],
   "source": [
    "len(urls)"
   ]
  },
  {
   "cell_type": "code",
   "execution_count": 19,
   "metadata": {},
   "outputs": [],
   "source": [
    "df = pd.DataFrame(urls)"
   ]
  },
  {
   "cell_type": "code",
   "execution_count": 23,
   "metadata": {},
   "outputs": [],
   "source": [
    "df.to_csv('nyt.csv')"
   ]
  },
  {
   "cell_type": "code",
   "execution_count": null,
   "metadata": {},
   "outputs": [],
   "source": []
  }
 ],
 "metadata": {
  "kernelspec": {
   "display_name": "Python 3",
   "language": "python",
   "name": "python3"
  },
  "language_info": {
   "codemirror_mode": {
    "name": "ipython",
    "version": 3
   },
   "file_extension": ".py",
   "mimetype": "text/x-python",
   "name": "python",
   "nbconvert_exporter": "python",
   "pygments_lexer": "ipython3",
   "version": "3.8.2"
  }
 },
 "nbformat": 4,
 "nbformat_minor": 4
}

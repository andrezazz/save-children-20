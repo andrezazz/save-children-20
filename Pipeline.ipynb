{
 "cells": [
  {
   "cell_type": "code",
   "execution_count": 17,
   "metadata": {},
   "outputs": [],
   "source": [
    "import numpy as np\n",
    "import pandas as pd\n",
    "import requests\n",
    "import json\n",
    "import os\n",
    "import dotenv\n",
    "import sys\n",
    "sys.tracebacklimit = 0 # turn off the error tracebacks\n",
    "from newspaper import Article\n",
    "import re\n",
    "import warnings\n",
    "warnings.simplefilter(\"ignore\", DeprecationWarning)"
   ]
  },
  {
   "cell_type": "code",
   "execution_count": 18,
   "metadata": {},
   "outputs": [],
   "source": [
    "dotenv.load_dotenv()\n",
    "token = os.getenv('token')"
   ]
  },
  {
   "cell_type": "code",
   "execution_count": 19,
   "metadata": {},
   "outputs": [],
   "source": [
    "myanmardict = {'q':'Rohingya&', 'from':'2017-08-24&', 'language':'en', 'pageSize':100, 'apiKey': token}"
   ]
  },
  {
   "cell_type": "code",
   "execution_count": 20,
   "metadata": {},
   "outputs": [
    {
     "data": {
      "text/plain": [
       "<Response [200]>"
      ]
     },
     "execution_count": 20,
     "metadata": {},
     "output_type": "execute_result"
    }
   ],
   "source": [
    "myanmar = requests.get('http://newsapi.org/v2/everything?', params=myanmardict)\n",
    "myanmar"
   ]
  },
  {
   "cell_type": "code",
   "execution_count": 21,
   "metadata": {},
   "outputs": [],
   "source": [
    "myanmarjson = json.loads(myanmar.text)"
   ]
  },
  {
   "cell_type": "code",
   "execution_count": 22,
   "metadata": {},
   "outputs": [],
   "source": [
    "myanmardf = pd.json_normalize(myanmarjson, record_path = ['articles'])\n",
    "myanmardf = myanmardf.loc[~myanmardf.title.duplicated(),]"
   ]
  },
  {
   "cell_type": "code",
   "execution_count": 23,
   "metadata": {},
   "outputs": [
    {
     "data": {
      "text/html": [
       "<div>\n",
       "<style scoped>\n",
       "    .dataframe tbody tr th:only-of-type {\n",
       "        vertical-align: middle;\n",
       "    }\n",
       "\n",
       "    .dataframe tbody tr th {\n",
       "        vertical-align: top;\n",
       "    }\n",
       "\n",
       "    .dataframe thead th {\n",
       "        text-align: right;\n",
       "    }\n",
       "</style>\n",
       "<table border=\"1\" class=\"dataframe\">\n",
       "  <thead>\n",
       "    <tr style=\"text-align: right;\">\n",
       "      <th></th>\n",
       "      <th>author</th>\n",
       "      <th>title</th>\n",
       "      <th>description</th>\n",
       "      <th>url</th>\n",
       "      <th>urlToImage</th>\n",
       "      <th>publishedAt</th>\n",
       "      <th>content</th>\n",
       "      <th>source.id</th>\n",
       "      <th>source.name</th>\n",
       "    </tr>\n",
       "  </thead>\n",
       "  <tbody>\n",
       "    <tr>\n",
       "      <th>0</th>\n",
       "      <td>None</td>\n",
       "      <td>Global virtual aid conference to be held for R...</td>\n",
       "      <td>Global virtual aid conference to be held for R...</td>\n",
       "      <td>https://uk.reuters.com/article/uk-myanmar-rohi...</td>\n",
       "      <td>None</td>\n",
       "      <td>2020-10-15T07:39:00Z</td>\n",
       "      <td>FILE PHOTO: Rohingyas living in Malaysia prote...</td>\n",
       "      <td>reuters</td>\n",
       "      <td>Reuters</td>\n",
       "    </tr>\n",
       "    <tr>\n",
       "      <th>1</th>\n",
       "      <td>Reuters Staff</td>\n",
       "      <td>Myanmar election app goes offline, has been cr...</td>\n",
       "      <td>A smartphone app produced for Myanmar’s Nov. 8...</td>\n",
       "      <td>https://in.reuters.com/article/myanmar-electio...</td>\n",
       "      <td>https://static.reuters.com/resources/r/?m=02&amp;d...</td>\n",
       "      <td>2020-10-02T15:46:00Z</td>\n",
       "      <td>By Reuters Staff\\r\\nYANGON (Reuters) - A smart...</td>\n",
       "      <td>reuters</td>\n",
       "      <td>Reuters</td>\n",
       "    </tr>\n",
       "    <tr>\n",
       "      <th>2</th>\n",
       "      <td>Reuters Staff</td>\n",
       "      <td>Global virtual aid conference to be held for R...</td>\n",
       "      <td>A global virtual international donor conferenc...</td>\n",
       "      <td>https://www.reuters.com/article/myanmar-rohing...</td>\n",
       "      <td>https://static.reuters.com/resources/r/?m=02&amp;d...</td>\n",
       "      <td>2020-10-15T07:43:00Z</td>\n",
       "      <td>By Reuters Staff\\r\\n(Reuters) - A global virtu...</td>\n",
       "      <td>reuters</td>\n",
       "      <td>Reuters</td>\n",
       "    </tr>\n",
       "    <tr>\n",
       "      <th>3</th>\n",
       "      <td>Reuters Staff</td>\n",
       "      <td>Global virtual aid conference to be held for R...</td>\n",
       "      <td>A global virtual international donor conferenc...</td>\n",
       "      <td>https://in.reuters.com/article/myanmar-rohingy...</td>\n",
       "      <td>https://static.reuters.com/resources/r/?m=02&amp;d...</td>\n",
       "      <td>2020-10-15T08:05:00Z</td>\n",
       "      <td>By Reuters Staff\\r\\n(Reuters) - A global virtu...</td>\n",
       "      <td>reuters</td>\n",
       "      <td>Reuters</td>\n",
       "    </tr>\n",
       "    <tr>\n",
       "      <th>4</th>\n",
       "      <td>Rozanna Latiff, A. Ananthalakshmi</td>\n",
       "      <td>Anti-migrant sentiment fanned on Facebook in M...</td>\n",
       "      <td>As coronavirus infections surged in Malaysia t...</td>\n",
       "      <td>https://www.reuters.com/article/us-facebook-ma...</td>\n",
       "      <td>https://static.reuters.com/resources/r/?m=02&amp;d...</td>\n",
       "      <td>2020-10-14T03:20:00Z</td>\n",
       "      <td>KUALA LUMPUR (Reuters) - As coronavirus infect...</td>\n",
       "      <td>reuters</td>\n",
       "      <td>Reuters</td>\n",
       "    </tr>\n",
       "  </tbody>\n",
       "</table>\n",
       "</div>"
      ],
      "text/plain": [
       "                              author  \\\n",
       "0                               None   \n",
       "1                      Reuters Staff   \n",
       "2                      Reuters Staff   \n",
       "3                      Reuters Staff   \n",
       "4  Rozanna Latiff, A. Ananthalakshmi   \n",
       "\n",
       "                                               title  \\\n",
       "0  Global virtual aid conference to be held for R...   \n",
       "1  Myanmar election app goes offline, has been cr...   \n",
       "2  Global virtual aid conference to be held for R...   \n",
       "3  Global virtual aid conference to be held for R...   \n",
       "4  Anti-migrant sentiment fanned on Facebook in M...   \n",
       "\n",
       "                                         description  \\\n",
       "0  Global virtual aid conference to be held for R...   \n",
       "1  A smartphone app produced for Myanmar’s Nov. 8...   \n",
       "2  A global virtual international donor conferenc...   \n",
       "3  A global virtual international donor conferenc...   \n",
       "4  As coronavirus infections surged in Malaysia t...   \n",
       "\n",
       "                                                 url  \\\n",
       "0  https://uk.reuters.com/article/uk-myanmar-rohi...   \n",
       "1  https://in.reuters.com/article/myanmar-electio...   \n",
       "2  https://www.reuters.com/article/myanmar-rohing...   \n",
       "3  https://in.reuters.com/article/myanmar-rohingy...   \n",
       "4  https://www.reuters.com/article/us-facebook-ma...   \n",
       "\n",
       "                                          urlToImage           publishedAt  \\\n",
       "0                                               None  2020-10-15T07:39:00Z   \n",
       "1  https://static.reuters.com/resources/r/?m=02&d...  2020-10-02T15:46:00Z   \n",
       "2  https://static.reuters.com/resources/r/?m=02&d...  2020-10-15T07:43:00Z   \n",
       "3  https://static.reuters.com/resources/r/?m=02&d...  2020-10-15T08:05:00Z   \n",
       "4  https://static.reuters.com/resources/r/?m=02&d...  2020-10-14T03:20:00Z   \n",
       "\n",
       "                                             content source.id source.name  \n",
       "0  FILE PHOTO: Rohingyas living in Malaysia prote...   reuters     Reuters  \n",
       "1  By Reuters Staff\\r\\nYANGON (Reuters) - A smart...   reuters     Reuters  \n",
       "2  By Reuters Staff\\r\\n(Reuters) - A global virtu...   reuters     Reuters  \n",
       "3  By Reuters Staff\\r\\n(Reuters) - A global virtu...   reuters     Reuters  \n",
       "4  KUALA LUMPUR (Reuters) - As coronavirus infect...   reuters     Reuters  "
      ]
     },
     "execution_count": 23,
     "metadata": {},
     "output_type": "execute_result"
    }
   ],
   "source": [
    "myanmardf.head()"
   ]
  },
  {
   "cell_type": "code",
   "execution_count": 24,
   "metadata": {},
   "outputs": [],
   "source": [
    "myanmar_urls = []\n",
    "for i in range(0, myanmardf.shape[0]):\n",
    "    myanmar_urls.append(myanmardf.iloc[i]['url'])"
   ]
  },
  {
   "cell_type": "code",
   "execution_count": 25,
   "metadata": {},
   "outputs": [
    {
     "data": {
      "text/plain": [
       "94"
      ]
     },
     "execution_count": 25,
     "metadata": {},
     "output_type": "execute_result"
    }
   ],
   "source": [
    "len(myanmar_urls)"
   ]
  },
  {
   "cell_type": "code",
   "execution_count": 26,
   "metadata": {},
   "outputs": [],
   "source": [
    "def extractArticles(lst, dic):\n",
    "    for j in lst:\n",
    "        try:\n",
    "            art = Article(j)\n",
    "            art.download()\n",
    "            art.parse()\n",
    "            text = re.sub('\\s+',' ',art.text)\n",
    "            if text not in dic.values():\n",
    "                dic[j] = text\n",
    "        except:\n",
    "            continue"
   ]
  },
  {
   "cell_type": "code",
   "execution_count": 27,
   "metadata": {},
   "outputs": [],
   "source": [
    "myanmar_articles = {}\n",
    "extractArticles(myanmar_urls, myanmar_articles)"
   ]
  },
  {
   "cell_type": "code",
   "execution_count": 28,
   "metadata": {},
   "outputs": [],
   "source": [
    "myanmar_texts = pd.DataFrame.from_dict(myanmar_articles, orient='index', columns=['text'])"
   ]
  },
  {
   "cell_type": "code",
   "execution_count": 29,
   "metadata": {},
   "outputs": [],
   "source": [
    "myanmar_texts['text']= myanmar_texts['text'].map(lambda x: re.sub('[,\\.!?]', '', x))\n",
    "myanmar_texts['text'] = myanmar_texts['text'].map(lambda x: x.lower())"
   ]
  },
  {
   "cell_type": "code",
   "execution_count": 31,
   "metadata": {},
   "outputs": [
    {
     "name": "stdout",
     "output_type": "stream",
     "text": [
      "Stored 'myanmar_texts' (DataFrame)\n"
     ]
    }
   ],
   "source": [
    "%store myanmar_texts"
   ]
  },
  {
   "cell_type": "code",
   "execution_count": 32,
   "metadata": {},
   "outputs": [],
   "source": [
    "%store -r nyt_urls_df"
   ]
  },
  {
   "cell_type": "code",
   "execution_count": 33,
   "metadata": {},
   "outputs": [],
   "source": [
    "nyt_urls_df.rename({0:'url'}, axis=1, inplace=True)"
   ]
  },
  {
   "cell_type": "code",
   "execution_count": 34,
   "metadata": {},
   "outputs": [],
   "source": [
    "nyt_urls = []\n",
    "for i in range(0, nyt_urls_df.shape[0]):\n",
    "    nyt_urls.append(nyt_urls_df.iloc[i]['url'])"
   ]
  },
  {
   "cell_type": "code",
   "execution_count": 35,
   "metadata": {},
   "outputs": [
    {
     "data": {
      "text/plain": [
       "1059"
      ]
     },
     "execution_count": 35,
     "metadata": {},
     "output_type": "execute_result"
    }
   ],
   "source": [
    "len(nyt_urls)"
   ]
  },
  {
   "cell_type": "code",
   "execution_count": 36,
   "metadata": {},
   "outputs": [],
   "source": [
    "nyt_articles = {}\n",
    "extractArticles(nyt_urls, nyt_articles)"
   ]
  },
  {
   "cell_type": "code",
   "execution_count": 37,
   "metadata": {},
   "outputs": [],
   "source": [
    "nyt_texts = pd.DataFrame.from_dict(nyt_articles, orient='index', columns=['text'])"
   ]
  },
  {
   "cell_type": "code",
   "execution_count": 38,
   "metadata": {},
   "outputs": [],
   "source": [
    "nyt_texts['text']= nyt_texts['text'].map(lambda x: re.sub('[,\\.!?]', '', x))\n",
    "nyt_texts['text'] = nyt_texts['text'].map(lambda x: x.lower())"
   ]
  },
  {
   "cell_type": "code",
   "execution_count": 39,
   "metadata": {},
   "outputs": [
    {
     "data": {
      "text/html": [
       "<div>\n",
       "<style scoped>\n",
       "    .dataframe tbody tr th:only-of-type {\n",
       "        vertical-align: middle;\n",
       "    }\n",
       "\n",
       "    .dataframe tbody tr th {\n",
       "        vertical-align: top;\n",
       "    }\n",
       "\n",
       "    .dataframe thead th {\n",
       "        text-align: right;\n",
       "    }\n",
       "</style>\n",
       "<table border=\"1\" class=\"dataframe\">\n",
       "  <thead>\n",
       "    <tr style=\"text-align: right;\">\n",
       "      <th></th>\n",
       "      <th>text</th>\n",
       "    </tr>\n",
       "  </thead>\n",
       "  <tbody>\n",
       "    <tr>\n",
       "      <th>https://www.nytimes.com/2020/10/17/world/asia/rohingya-child-brides.html</th>\n",
       "      <td>bangkok — haresa counted the days by the moon ...</td>\n",
       "    </tr>\n",
       "    <tr>\n",
       "      <th>https://www.nytimes.com/2020/10/12/world/asia/myanmar-thailand-gods-army-htoo-twins.html</th>\n",
       "      <td>as they escape to farther and colder climates ...</td>\n",
       "    </tr>\n",
       "    <tr>\n",
       "      <th>https://www.nytimes.com/2020/09/22/world/asia/un-general-assembly-live-updates.html</th>\n",
       "      <td>us-china brawl sharpens on the global stage th...</td>\n",
       "    </tr>\n",
       "    <tr>\n",
       "      <th>https://www.nytimes.com/2020/09/18/opinion/facebook-democracy.html</th>\n",
       "      <td>for years myanmar’s military used facebook to ...</td>\n",
       "    </tr>\n",
       "    <tr>\n",
       "      <th>https://www.nytimes.com/2020/09/15/world/United-Nations-General-Assembly.html</th>\n",
       "      <td>worldwide contagion the worst economic crisis ...</td>\n",
       "    </tr>\n",
       "  </tbody>\n",
       "</table>\n",
       "</div>"
      ],
      "text/plain": [
       "                                                                                                 text\n",
       "https://www.nytimes.com/2020/10/17/world/asia/r...  bangkok — haresa counted the days by the moon ...\n",
       "https://www.nytimes.com/2020/10/12/world/asia/m...  as they escape to farther and colder climates ...\n",
       "https://www.nytimes.com/2020/09/22/world/asia/u...  us-china brawl sharpens on the global stage th...\n",
       "https://www.nytimes.com/2020/09/18/opinion/face...  for years myanmar’s military used facebook to ...\n",
       "https://www.nytimes.com/2020/09/15/world/United...  worldwide contagion the worst economic crisis ..."
      ]
     },
     "execution_count": 39,
     "metadata": {},
     "output_type": "execute_result"
    }
   ],
   "source": [
    "nyt_texts.head()"
   ]
  },
  {
   "cell_type": "code",
   "execution_count": 40,
   "metadata": {},
   "outputs": [
    {
     "name": "stdout",
     "output_type": "stream",
     "text": [
      "Stored 'nyt_texts' (DataFrame)\n"
     ]
    }
   ],
   "source": [
    "%store nyt_texts"
   ]
  }
 ],
 "metadata": {
  "kernelspec": {
   "display_name": "Python 3",
   "language": "python",
   "name": "python3"
  },
  "language_info": {
   "codemirror_mode": {
    "name": "ipython",
    "version": 3
   },
   "file_extension": ".py",
   "mimetype": "text/x-python",
   "name": "python",
   "nbconvert_exporter": "python",
   "pygments_lexer": "ipython3",
   "version": "3.8.3"
  }
 },
 "nbformat": 4,
 "nbformat_minor": 4
}
